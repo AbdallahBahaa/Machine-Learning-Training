{
  "nbformat": 4,
  "nbformat_minor": 0,
  "metadata": {
    "colab": {
      "name": "Mini_Projects_2/ part 2.ipynb",
      "provenance": [],
      "include_colab_link": true
    },
    "kernelspec": {
      "name": "python3",
      "display_name": "Python 3"
    }
  },
  "cells": [
    {
      "cell_type": "markdown",
      "metadata": {
        "id": "view-in-github",
        "colab_type": "text"
      },
      "source": [
        "<a href=\"https://colab.research.google.com/github/AbdallahBahaa/Machine-Learning-Training/blob/main/Mini_Projects_2_part_2.ipynb\" target=\"_parent\"><img src=\"https://colab.research.google.com/assets/colab-badge.svg\" alt=\"Open In Colab\"/></a>"
      ]
    },
    {
      "cell_type": "markdown",
      "metadata": {
        "id": "c2sSEq3uSurn"
      },
      "source": [
        "# Files and Exceptions"
      ]
    },
    {
      "cell_type": "code",
      "metadata": {
        "id": "VppOUgyU_Auv",
        "colab": {
          "base_uri": "https://localhost:8080/"
        },
        "outputId": "9749dee6-0ef5-4cdc-c0a5-494f82a894a2"
      },
      "source": [
        "from google.colab import drive\n",
        "drive.mount('/content/drive')"
      ],
      "execution_count": 8,
      "outputs": [
        {
          "output_type": "stream",
          "text": [
            "Drive already mounted at /content/drive; to attempt to forcibly remount, call drive.mount(\"/content/drive\", force_remount=True).\n"
          ],
          "name": "stdout"
        }
      ]
    },
    {
      "cell_type": "markdown",
      "metadata": {
        "id": "qw2XyRs-TWIF"
      },
      "source": [
        "**8. Sum of Numbers** <br>\n",
        "Assume that a file containing a series of integers is named numbers.txt and exists on the Drive. Write a program that reads all of the numbers stored in the file and calculates their total.\n",
        "\n",
        "Find file here: <br>\n",
        "https://drive.google.com/file/d/1GaOURA7jp0NLvfaOfl4cCClKK_pv3q0r/view?usp=sharing"
      ]
    },
    {
      "cell_type": "code",
      "metadata": {
        "id": "92EStR9KSu8N",
        "colab": {
          "base_uri": "https://localhost:8080/"
        },
        "outputId": "23b52684-6c61-4569-9ba9-33b9eefa084a"
      },
      "source": [
        "def main():\n",
        "    try:\n",
        "      infile = open(\"numbers.txt\", \"r\")\n",
        "    except Exception as error:\n",
        "      print(\"there is an error in opening the file\", error)\n",
        "    else:\n",
        "      total = 0\n",
        "\n",
        "      for line in infile:\n",
        "            total = total + float (line)\n",
        "      print(\"The sum of the numbers in the file is \", total)\n",
        "      infile.close()\n",
        "main()\n"
      ],
      "execution_count": 9,
      "outputs": [
        {
          "output_type": "stream",
          "text": [
            "there is an error in opening the file [Errno 2] No such file or directory: 'numbers.txt'\n"
          ],
          "name": "stdout"
        }
      ]
    },
    {
      "cell_type": "code",
      "metadata": {
        "id": "B7GImG_lSu-u"
      },
      "source": [
        ""
      ],
      "execution_count": null,
      "outputs": []
    },
    {
      "cell_type": "markdown",
      "metadata": {
        "id": "gW0mWcdDVgK4"
      },
      "source": [
        "**9. Average of Numbers** <br>\n",
        "Assume that a file containing a series of integers is named numbers.txt and exists on the Drive. Write a program that calculates the average of all the numbers stored in\n",
        "the file"
      ]
    },
    {
      "cell_type": "code",
      "metadata": {
        "id": "3-DZx-vnSvCe"
      },
      "source": [
        "def main():\n",
        "    try:\n",
        "      infile = open(\"numbers.txt\", \"r\")\n",
        "    except Exception as error:\n",
        "      print(\"there is an error in opening the file\", error)\n",
        "    else:\n",
        "      total = 0\n",
        "      NumberOfLines = 0\n",
        "      line = infile.readline()\n",
        "\n",
        "      while line !=\"\":\n",
        "        NumberOfLines +=1\n",
        "        total += float (line)\n",
        "        line = infile.readline()\n",
        "\n",
        "      AVG = total / NumberOfLines\n",
        "\n",
        "      print(\"The average of the numbers in the file is \", AVG)\n",
        "main()\n"
      ],
      "execution_count": null,
      "outputs": []
    },
    {
      "cell_type": "markdown",
      "metadata": {
        "id": "vjchCYETVwPx"
      },
      "source": [
        "**10. Random Number File Writer**<br>\n",
        "Write a program that writes a series of random numbers to a file. Each random number should be in the range of 1 \n",
        "through 500. The application should let the user specify how\n",
        "many random numbers the file will hold.\n"
      ]
    },
    {
      "cell_type": "code",
      "metadata": {
        "id": "DCyba_BZVxLF"
      },
      "source": [
        "def main():\n",
        "    import random\n",
        "    n = int(input(\"Enter how many random numbers do you want to add \"))\n",
        "    counter = 0\n",
        "    outfile = open(\"numbers.txt\", \"w\")\n",
        "    while counter < n:\n",
        "        randomNumber = random.randint(1, 500)\n",
        "        counter = counter+1\n",
        "        outfile.write(str(randomNumber) +\"\\n\")\n",
        "\n",
        "    outfile.close()\n",
        "    print(\"Data written to numbers.txt\")\n",
        "\n",
        "main()\n",
        "\n"
      ],
      "execution_count": null,
      "outputs": []
    },
    {
      "cell_type": "code",
      "metadata": {
        "id": "uZ7CQJM0VxN5"
      },
      "source": [
        ""
      ],
      "execution_count": null,
      "outputs": []
    },
    {
      "cell_type": "markdown",
      "metadata": {
        "id": "p75ZKqbXWMdY"
      },
      "source": [
        "**11.  Exception Handing** <br>\n",
        "Modify the program that you wrote for Exercise 9 so it handles the following exceptions: <br>\n",
        "* It should handle any IOError exceptions that are raised when the file is opened and data\n",
        "is read from it. <br>\n",
        "* It should handle any ValueError exceptions that are raised when the items that are read from the file are converted to a number."
      ]
    },
    {
      "cell_type": "code",
      "metadata": {
        "id": "22SOHQbrVxRE"
      },
      "source": [
        "\n",
        "def main():\n",
        "  try:\n",
        "      infile = open(\"numbers.txt\", \"r\")\n",
        "      total = 0\n",
        "      NumberOfLines = 0\n",
        "      line = infile.readline()\n",
        "\n",
        "      while line !=\"\":\n",
        "        NumberOfLines +=1\n",
        "        total += float (line)\n",
        "        line = infile.readline()\n",
        "\n",
        "      AVG = total / NumberOfLines\n",
        "\n",
        "      print(\"The average of the numbers in the file is \", AVG)\n",
        "\n",
        "\n",
        "  except ValueError:\n",
        "     print( \"File must have only numbers. Try again.\" )\n",
        "\n",
        "  except IOError:\n",
        "     print(\"Trouble opening file. Try again.\")\n",
        "    \n",
        "main()"
      ],
      "execution_count": null,
      "outputs": []
    },
    {
      "cell_type": "code",
      "metadata": {
        "id": "3p0MENR_WrBV"
      },
      "source": [
        ""
      ],
      "execution_count": null,
      "outputs": []
    }
  ]
}